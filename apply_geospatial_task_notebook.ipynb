{
 "cells": [
  {
   "cell_type": "code",
   "execution_count": 16,
   "id": "dcf94596",
   "metadata": {
    "pycharm": {
     "name": "#%%\n"
    }
   },
   "outputs": [],
   "source": [
    "# Import necessary libraries\n",
    "from main import *\n",
    "import matplotlib.pyplot as plt"
   ]
  },
  {
   "cell_type": "code",
   "execution_count": 2,
   "id": "950f2518",
   "metadata": {
    "pycharm": {
     "name": "#%%\n"
    }
   },
   "outputs": [],
   "source": [
    "# Data Management\n",
    "# processing path must include sentinel bands information vs mask data\n",
    "processing_path = r\"./data\"\n",
    "date_tag = get_date_tag()\n",
    "\n",
    "\n",
    "\n",
    "# List Data \n"
   ]
  },
  {
   "cell_type": "code",
   "execution_count": null,
   "id": "b86b4cf8",
   "metadata": {},
   "outputs": [],
   "source": [
    "\n",
    "# Check Data "
   ]
  },
  {
   "cell_type": "code",
   "execution_count": null,
   "id": "4cd1c4d3",
   "metadata": {},
   "outputs": [],
   "source": [
    "\n",
    "# Read Data "
   ]
  },
  {
   "cell_type": "code",
   "execution_count": null,
   "id": "0b13a6b7",
   "metadata": {},
   "outputs": [],
   "source": [
    "\n",
    "# Display Data "
   ]
  },
  {
   "cell_type": "code",
   "execution_count": null,
   "id": "fbe4506c",
   "metadata": {},
   "outputs": [],
   "source": [
    "\n",
    "# Apply pansharpening \n",
    "# gdal method \n",
    "\n"
   ]
  },
  {
   "cell_type": "code",
   "execution_count": null,
   "id": "748f4f58",
   "metadata": {},
   "outputs": [],
   "source": [
    "\n",
    "# Apply pansharpening \n",
    "# xarray method \n",
    "\n"
   ]
  },
  {
   "cell_type": "code",
   "execution_count": null,
   "id": "80681fec",
   "metadata": {},
   "outputs": [],
   "source": [
    "\n",
    "# Apply pansharpening \n",
    "# numpy method \n",
    "\n"
   ]
  },
  {
   "cell_type": "code",
   "execution_count": null,
   "id": "503715a0",
   "metadata": {},
   "outputs": [],
   "source": [
    "\n",
    "# Compare Results  \n",
    "#  Graph  \n",
    "\n"
   ]
  },
  {
   "cell_type": "code",
   "execution_count": null,
   "id": "c1468dd5",
   "metadata": {},
   "outputs": [],
   "source": [
    "\n",
    "# Compare Results  \n",
    "# Geomap \n",
    "\n"
   ]
  },
  {
   "cell_type": "code",
   "execution_count": null,
   "id": "083b03e4",
   "metadata": {},
   "outputs": [],
   "source": [
    "\n",
    "# Export Data  \n",
    "\n",
    "\n"
   ]
  }
 ],
 "metadata": {
  "kernelspec": {
   "display_name": "Python 3 (ipykernel)",
   "language": "python",
   "name": "python3"
  },
  "language_info": {
   "codemirror_mode": {
    "name": "ipython",
    "version": 3
   },
   "file_extension": ".py",
   "mimetype": "text/x-python",
   "name": "python",
   "nbconvert_exporter": "python",
   "pygments_lexer": "ipython3",
   "version": "3.10.4"
  }
 },
 "nbformat": 4,
 "nbformat_minor": 5
}
